{
 "cells": [
  {
   "cell_type": "markdown",
   "metadata": {},
   "source": [
    "# Sorting\n",
    "Implement all sorting algorithms"
   ]
  },
  {
   "cell_type": "code",
   "execution_count": 17,
   "metadata": {},
   "outputs": [],
   "source": [
    "# Generate a random list of numbers\n",
    "import random\n",
    "\n",
    "def randList(num, a=0, b=1000):\n",
    "    genlist = []\n",
    "    for i in range(num):\n",
    "        genlist.append(random.randint(a, b))\n",
    "    return genlist\n"
   ]
  },
  {
   "cell_type": "code",
   "execution_count": 18,
   "metadata": {},
   "outputs": [
    {
     "name": "stdout",
     "output_type": "stream",
     "text": [
      "[707, 817, 804, 929, 455, 491, 311, 281, 146, 143]\n"
     ]
    }
   ],
   "source": [
    "testList = randList(10)\n",
    "print(testList)"
   ]
  },
  {
   "cell_type": "markdown",
   "metadata": {},
   "source": [
    "### Bubble Sort\n",
    "In bubble sort we pass over the array multiple times. During each pass, we compare adjacent elements and swap them if x-1 element is greater than x element. By the end of the pass, the greatest element will be at the end of array."
   ]
  },
  {
   "cell_type": "code",
   "execution_count": 24,
   "metadata": {},
   "outputs": [
    {
     "name": "stdout",
     "output_type": "stream",
     "text": [
      "[68, 713, 339, 239, 166, 858, 745, 869, 843, 212]\n",
      "[68, 166, 212, 239, 339, 713, 745, 843, 858, 869]\n"
     ]
    }
   ],
   "source": [
    "testList = randList(10)\n",
    "print(testList)\n",
    "\n",
    "def bubSort(testList):\n",
    "    listLen = len(testList)\n",
    "    for run in range(listLen):\n",
    "        for i in range(listLen - run- 1):\n",
    "                if testList[i] > testList[i+1]:\n",
    "                    testList[i], testList[i+1] = testList[i+1], testList[i]\n",
    "    return testList\n",
    "print(bubSort(testList))"
   ]
  },
  {
   "cell_type": "markdown",
   "metadata": {},
   "source": [
    "### Selection Sort\n",
    "In selection sort we pick the ith element of the array and check if anything else is greater than it, swap if it is greater."
   ]
  },
  {
   "cell_type": "code",
   "execution_count": 26,
   "metadata": {},
   "outputs": [
    {
     "name": "stdout",
     "output_type": "stream",
     "text": [
      "[953, 691, 555, 300, 825, 895, 358, 352, 519, 41]\n",
      "[41, 300, 352, 358, 519, 555, 691, 825, 895, 953]\n"
     ]
    }
   ],
   "source": [
    "testList = randList(10)\n",
    "print(testList)\n",
    "\n",
    "def selSort(testList):\n",
    "    listLen = len(testList)\n",
    "    for element in range(listLen):\n",
    "        for rest in range(listLen):\n",
    "            if testList[element] < testList[rest]:\n",
    "                testList[element], testList[rest] = testList[rest], testList[element]\n",
    "    return testList\n",
    "print(selSort(testList))"
   ]
  },
  {
   "cell_type": "markdown",
   "metadata": {},
   "source": [
    "### Insertion Sort\n",
    "In insertion sort, we start with an unsorted list and go through each item and search where to insert that item depending on its value"
   ]
  },
  {
   "cell_type": "code",
   "execution_count": 28,
   "metadata": {},
   "outputs": [
    {
     "name": "stdout",
     "output_type": "stream",
     "text": [
      "[650, 975, 837, 199, 975, 373, 0, 528, 937, 13]\n",
      "[0, 13, 199, 373, 528, 650, 837, 937, 975, 975]\n"
     ]
    }
   ],
   "source": [
    "testList = randList(10)\n",
    "print(testList)\n",
    "\n",
    "def insSort(testList):\n",
    "    listLen = len(testList)\n",
    "    for ele in range(1, listLen):\n",
    "        value = testList[ele]\n",
    "        position = ele\n",
    "        \n",
    "        while position > 0 and testList[position - 1] > value:\n",
    "            testList[position] = testList[position - 1]\n",
    "            position -= 1\n",
    "        testList[position] = value\n",
    "    return testList\n",
    "print(insSort(testList))"
   ]
  },
  {
   "cell_type": "markdown",
   "metadata": {},
   "source": [
    "### Merge Sort\n",
    "In merge sort, we continosly divide the array into equal halves, once we reach the last we execute the merge algorithm. In merge algorithm of two sorted lists, the smallest elements are the left most, so we can use double pointers and merge them"
   ]
  },
  {
   "cell_type": "code",
   "execution_count": 29,
   "metadata": {},
   "outputs": [
    {
     "name": "stdout",
     "output_type": "stream",
     "text": [
      "[195, 835, 401, 151, 821, 818, 93, 349, 866, 614, 207]\n",
      "[93, 151, 195, 207, 349, 401, 614, 818, 821, 835, 866]\n"
     ]
    }
   ],
   "source": [
    "testList = randList(11)\n",
    "print(testList)\n",
    "\n",
    "def merge(L, R, A):\n",
    "    lenL = len(L)\n",
    "    lenR = len(R)\n",
    "    \n",
    "    lptr = 0\n",
    "    rptr = 0\n",
    "    aptr = 0\n",
    "    \n",
    "    while lptr < lenL and rptr < lenR:\n",
    "        if L[lptr] < R[rptr]:\n",
    "            A[aptr] = L[lptr]\n",
    "            lptr += 1\n",
    "        else:\n",
    "            A[aptr] = R[rptr]\n",
    "            rptr += 1\n",
    "        aptr += 1\n",
    "    \n",
    "    while lptr < lenL:\n",
    "        A[aptr] = L[lptr]\n",
    "        lptr += 1\n",
    "        aptr += 1\n",
    "        \n",
    "    while rptr < lenR:\n",
    "        A[aptr] = R[rptr]\n",
    "        rptr += 1\n",
    "        aptr += 1\n",
    "        \n",
    "\n",
    "def mergeSort(testList):\n",
    "    n = len(testList)\n",
    "    if n < 2:\n",
    "        return\n",
    "    \n",
    "    mid = n // 2\n",
    "    L = testList[:mid]\n",
    "    R = testList[mid:]\n",
    "    \n",
    "    mergeSort(L)\n",
    "    mergeSort(R)\n",
    "    merge(L, R, testList)\n",
    "    \n",
    "    return testList\n",
    "\n",
    "print(mergeSort(testList))\n",
    "    "
   ]
  },
  {
   "cell_type": "code",
   "execution_count": null,
   "metadata": {},
   "outputs": [],
   "source": []
  }
 ],
 "metadata": {
  "kernelspec": {
   "display_name": "Python 3",
   "language": "python",
   "name": "python3"
  },
  "language_info": {
   "codemirror_mode": {
    "name": "ipython",
    "version": 3
   },
   "file_extension": ".py",
   "mimetype": "text/x-python",
   "name": "python",
   "nbconvert_exporter": "python",
   "pygments_lexer": "ipython3",
   "version": "3.7.2"
  }
 },
 "nbformat": 4,
 "nbformat_minor": 2
}
